{
 "cells": [
  {
   "cell_type": "markdown",
   "metadata": {},
   "source": [
    "### 数据结构与算法 学习笔记（3）：线性表反转与插入排序\n",
    "\n",
    "* 1.顺序表反转\n",
    "\n",
    "* 2.链表反转\n",
    "\n",
    "* 3.顺序表插入排序\n",
    "\n",
    "* 4.链表插入排序\n"
   ]
  },
  {
   "cell_type": "markdown",
   "metadata": {},
   "source": [
    "#### 1.顺序表反转"
   ]
  },
  {
   "cell_type": "code",
   "execution_count": 11,
   "metadata": {},
   "outputs": [],
   "source": [
    "def reverse(self):\n",
    "    elems = self.elements\n",
    "    i, j = 0, len(elems)-1\n",
    "    while i < j:\n",
    "        elem[i], elem[j] = elem[j], elem[i]\n",
    "        i, j = i+1, j-1"
   ]
  },
  {
   "cell_type": "markdown",
   "metadata": {},
   "source": [
    "#### 2.链表反转"
   ]
  },
  {
   "cell_type": "code",
   "execution_count": 10,
   "metadata": {},
   "outputs": [],
   "source": [
    "def rev(self):\n",
    "    p = None\n",
    "    while self._head:\n",
    "        q = self._head\n",
    "        self._head = q.next #摘下原来的首结点\n",
    "        q._next = p \n",
    "        p = q #将摘下的结点加入p引用的结点序列\n",
    "    self._head = p #重置表头链接"
   ]
  },
  {
   "cell_type": "markdown",
   "metadata": {},
   "source": [
    "#### 3.顺序表的插入排序\n"
   ]
  },
  {
   "cell_type": "code",
   "execution_count": 1,
   "metadata": {},
   "outputs": [],
   "source": [
    "#顺序表的插入排序\n",
    "def list_sort(lst):\n",
    "    for i in range(1,len(lst)): #外循环\n",
    "        x = lst[i] # 用一个临时变量存储位置i的值\n",
    "        j = i #方便比较操作\n",
    "        while j > 0 and lst[j-1] > x: #当x大于其前面的值时，把前面的值依次向后搬移。\n",
    "            lst[j] = lst[j-1]\n",
    "        lst[j] = x # 最后将 x插入到位置j，完成排序"
   ]
  },
  {
   "cell_type": "markdown",
   "metadata": {},
   "source": [
    "#### 4.链表插入排序思路主线：\n",
    "将原始链表分为两个链表，用两个指针P和rem指向链表的表头，每次把p中的元素从左到右依次和rem表的第一个结点比较，如果p.elem<=rem.elem,用q指向p,并把p右移（不能移出链表的尾部），这样q永远在p的前一位，当遇到p.elem>rem.elem时，需要把rem结点从rem所在链表中删除下来，接到q的后面（且在p的前面）。遇到特殊情况，比如rem需要放在表头，此时q为None,则需稍微修改（体现在if语句中）。"
   ]
  },
  {
   "cell_type": "code",
   "execution_count": 4,
   "metadata": {},
   "outputs": [],
   "source": [
    "#链表插入排序\n",
    "def sort(self):\n",
    "    p = self._head\n",
    "    if p is None or p.next is None:\n",
    "        return \n",
    "    rem = p.next #定义rem为链表\n",
    "    p.next = None #拆分链表成为两个链表，新表P用来存放排序好的结点，第二个表rem存放未排序好的结点（旧表后面部分）\n",
    "    while rem is not None: #将以rem为表头的链表，一个一个结点推出\n",
    "        p = self._head #令每次循环时，p都始终首先指向新表的表头\n",
    "        q = None #q为p的前一个结点，由于此时p为表头，那么q为None\n",
    "        # 比较p结点元素和rem结点元素的大小，当p<rem，p继续右移，若出现rem表第一个结点比p大时或者p已经移到新表最右边时停止移动p。\n",
    "        while p.elem <= rem.elem and p is not None: \n",
    "            q = p #用q来跟踪P\n",
    "            p = p.next #然后把P向右移，这样的话 q永远在p的前一个结点,方便把rem插入到q和p之间\n",
    "        if q is None: #处理表头插入，比如初始链表元素为2134这样的链表，1需要插入到2的前面，此时的q=None\n",
    "            self._head = rem\n",
    "        else:  #不是表头插入的话，正常操作就行\n",
    "            q.next = rem #把rem结点链接到q结点后一位，因为此时q为新表表头\n",
    "        rem = rem.next #1 #把rem表的表头向后一位\n",
    "        q.next.next = p #2 把p结点链接到rem结点后一位，也就是q结点的后两位\n",
    "        #为了避免在“#2”中用两个next，也可以用q指向rem,再用q.next=p，替换“#1、#2”语句，例如：\n",
    "        # q = rem \n",
    "        # rem = rem.next\n",
    "        # q.next = p"
   ]
  },
  {
   "cell_type": "code",
   "execution_count": null,
   "metadata": {},
   "outputs": [],
   "source": []
  }
 ],
 "metadata": {
  "kernelspec": {
   "display_name": "Python 3",
   "language": "python",
   "name": "python3"
  },
  "language_info": {
   "codemirror_mode": {
    "name": "ipython",
    "version": 3
   },
   "file_extension": ".py",
   "mimetype": "text/x-python",
   "name": "python",
   "nbconvert_exporter": "python",
   "pygments_lexer": "ipython3",
   "version": "3.6.1"
  }
 },
 "nbformat": 4,
 "nbformat_minor": 2
}
