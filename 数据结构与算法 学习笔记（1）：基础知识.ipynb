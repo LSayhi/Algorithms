{
 "cells": [
  {
   "cell_type": "markdown",
   "metadata": {},
   "source": [
    "### 数据结构与算法系列 学习笔记 (1) - 基础知识\n",
    "\n",
    "- 作为计算机科学与技术领域核心之一，数据结构与算法对程序的设计具有重要的作用，因此值得深入学习。本人将以《数据结构与算法：Python语言描述》为基础学习对象，记录下完整的学习过程。\n",
    "- 此次文章内容主要涉及数据结构与算法的基础问题，以及python语言的一些特性。"
   ]
  },
  {
   "cell_type": "markdown",
   "metadata": {},
   "source": [
    "### 一、算法及算法分析\n",
    "\n",
    "1.1 问题，问题实例，算法\n",
    "\n",
    "1.2 算法分析与度量\n",
    "\n",
    "1.3 Python程序的计算复杂度"
   ]
  },
  {
   "cell_type": "markdown",
   "metadata": {},
   "source": [
    "### 二、数据结构\n",
    "\n",
    "2.1 结构性与功能性\n",
    "\n",
    "2.2 Python内置数据结构"
   ]
  },
  {
   "cell_type": "markdown",
   "metadata": {},
   "source": [
    "### 三、 Python特性\n",
    "\n",
    "3.1 继承，派生\n",
    "\n",
    " 定义新类时，可以列出一个或几个已知类作为被继承的类，这样就建立了新类与已知类之间的继承关系。定义已知类为基类（父类），新类为派生类（子类），派生类继承基类的所有功能，可以使用或修改基类已有的功能，也可以增加新的数据和功能。例如："
   ]
  },
  {
   "cell_type": "code",
   "execution_count": 6,
   "metadata": {},
   "outputs": [
    {
     "name": "stdout",
     "output_type": "stream",
     "text": [
      "True\n",
      "True\n",
      "True\n"
     ]
    }
   ],
   "source": [
    "class MyStr(str):#派生类定义\n",
    "    pass #语句组\n",
    "s=MyStr(1234)\n",
    "print(issubclass(MyStr,str))#1\n",
    "print(isinstance(s,MyStr))#2\n",
    "print(isinstance(s,str))#3"
   ]
  },
  {
   "cell_type": "markdown",
   "metadata": {},
   "source": [
    "以上代码就定义了一个基类为str类，派生类为MyStr类的新类。语句1,2,3的输出表明，Mystr是str的派生类，s是Mystr类，s也是str类。"
   ]
  },
  {
   "cell_type": "markdown",
   "metadata": {},
   "source": [
    "3.2 方法查找\n",
    "\n",
    " 当派生类调用类方法时，会从当前派生类开始，查找索要调用的方法，如果未找到，则向基类查找该方法，依次类推，如果最终未找到，Python解释器将报AttributeError异常，如果找到了该方法，则会调用它。\n",
    "\n",
    " 另外，当派生类中重新定义了基类中已有的方法时，则实例对象将默认使用新的方法，基类中的方法不再被使用。例如："
   ]
  },
  {
   "cell_type": "code",
   "execution_count": 17,
   "metadata": {},
   "outputs": [
    {
     "name": "stdout",
     "output_type": "stream",
     "text": [
      "A.g() called\n",
      "B.g() called\n",
      "B.g() called\n"
     ]
    }
   ],
   "source": [
    "class A:\n",
    "    def __init__(self):\n",
    "        pass\n",
    "    def f(self):\n",
    "        self.g()\n",
    "    def g(self):\n",
    "        print(\"A.g() called\")\n",
    "class B(A):\n",
    "    def __init__(self):\n",
    "        A.__init__(self)\n",
    "    def g(self):\n",
    "        print(\"B.g() called\")\n",
    "x,y,z=A(),B(),B()\n",
    "x.g() #1\n",
    "y.g() #2\n",
    "z.f() #3"
   ]
  },
  {
   "cell_type": "markdown",
   "metadata": {},
   "source": [
    "语句一的输出，表明x.g()调用的是类A中的g方法，语句2的输出表明调用的是B中的g方法，语句3的输出表明，z.f()先是调用A类中的方法f,然后再调用了B类中的方法g。这就说明，在派生类中，若重新定义了基类中的方法，调用时默认调用派生类中的同名方法（因为z是派生类B的对象），我们把这种查找方式称为动态约束，而如果z.f最终调用的是类A中的方法g时，我们称之为静态约束（绑定）。Python中使用的是动态约束，我们把通过动态约束确定调用关系的函数称为虚函数。"
   ]
  },
  {
   "cell_type": "markdown",
   "metadata": {},
   "source": [
    "3.3 标准函数super()\n",
    "\n",
    "Python内置了一个函数super(),在派生类里使用super()方法，则属性查找将从派生类的基类开始，而不是从派生类开始。super函数最简单的一种使用方式是，不指定super（）的参数，则其默认从派生类的上一层基类开始属性查找。例如："
   ]
  },
  {
   "cell_type": "code",
   "execution_count": 21,
   "metadata": {},
   "outputs": [
    {
     "name": "stdout",
     "output_type": "stream",
     "text": [
      "A.g() called\n",
      "A.g() called\n",
      "A.g() called\n"
     ]
    }
   ],
   "source": [
    "class A:\n",
    "    def __init__(self):\n",
    "        pass\n",
    "    def f(self):\n",
    "        self.g()\n",
    "    def g(self):\n",
    "        print(\"A.g() called\")\n",
    "class B(A):\n",
    "    def __init__(self):\n",
    "        A.__init__(self)\n",
    "    def g(self):\n",
    "        super().g()\n",
    "x,y,z=A(),B(),B()\n",
    "x.g() #1\n",
    "y.g() #2\n",
    "z.f() #3"
   ]
  },
  {
   "cell_type": "markdown",
   "metadata": {},
   "source": [
    "以上代码显示的是super（）函数，会直接从基类的方法开始查找，即使对象是派生类的实例，另外，super函数的另一种用法是指定从哪一种类开始查找，\n",
    "用法为super(C,obj),C为类，obj为C类实例，这样属性查找将从C类的基类开始往上查找。其它更复杂的super（）函数用法这里就不做介绍啦。"
   ]
  },
  {
   "cell_type": "code",
   "execution_count": null,
   "metadata": {},
   "outputs": [],
   "source": []
  }
 ],
 "metadata": {
  "kernelspec": {
   "display_name": "Python 3",
   "language": "python",
   "name": "python3"
  },
  "language_info": {
   "codemirror_mode": {
    "name": "ipython",
    "version": 3
   },
   "file_extension": ".py",
   "mimetype": "text/x-python",
   "name": "python",
   "nbconvert_exporter": "python",
   "pygments_lexer": "ipython3",
   "version": "3.6.1"
  }
 },
 "nbformat": 4,
 "nbformat_minor": 2
}
